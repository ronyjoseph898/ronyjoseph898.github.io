{
 "cells": [
  {
   "cell_type": "code",
   "execution_count": 29,
   "metadata": {},
   "outputs": [],
   "source": [
    "import pandas as pd\n",
    "from splinter import Browser\n",
    "from bs4 import BeautifulSoup\n",
    "import requests\n",
    "import time"
   ]
  },
  {
   "cell_type": "code",
   "execution_count": 30,
   "metadata": {},
   "outputs": [],
   "source": [
    "#run for mac\n",
    "# !which chromedriver\n",
    "executable_path = {'executable_path': '/usr/local/bin/chromedriver'}"
   ]
  },
  {
   "cell_type": "code",
   "execution_count": 31,
   "metadata": {},
   "outputs": [],
   "source": [
    "# for windows\n",
    "# executable_path = {'executable_path': 'chromedriver.exe'}"
   ]
  },
  {
   "cell_type": "code",
   "execution_count": 32,
   "metadata": {},
   "outputs": [],
   "source": [
    "browser = Browser('chrome', **executable_path, headless=False)"
   ]
  },
  {
   "cell_type": "markdown",
   "metadata": {},
   "source": [
    "<strong>NASA Mars News:</strong>"
   ]
  },
  {
   "cell_type": "code",
   "execution_count": 33,
   "metadata": {},
   "outputs": [],
   "source": [
    "news_url=\"https://mars.nasa.gov/news/\"\n",
    "news_browser = Browser('chrome', **executable_path, headless=False)\n",
    "news_browser.visit(news_url)\n",
    "time.sleep(2)\n",
    "news_html = news_browser.html\n",
    "news_soup = BeautifulSoup(news_html,'html.parser')"
   ]
  },
  {
   "cell_type": "code",
   "execution_count": 34,
   "metadata": {},
   "outputs": [],
   "source": [
    "# print(news_soup.prettify())"
   ]
  },
  {
   "cell_type": "code",
   "execution_count": 35,
   "metadata": {},
   "outputs": [
    {
     "name": "stdout",
     "output_type": "stream",
     "text": [
      "40\n"
     ]
    }
   ],
   "source": [
    "news_results = news_soup.find_all('li',class_='slide')\n",
    "# print(len(news_results))"
   ]
  },
  {
   "cell_type": "code",
   "execution_count": 36,
   "metadata": {
    "scrolled": true
   },
   "outputs": [
    {
     "data": {
      "text/plain": [
       "{'news_title': '360 Video: Curiosity Rover Departs Vera Rubin Ridge',\n",
       " 'news_p': \"This panorama from the Mast Camera (Mastcam) on NASA's Curiosity Mars rover was taken on Dec. 19 (Sol 2265). The rover's last drill location on Vera Rubin Ridge is visible, as well as the clay region it will spend the next year exploring.\"}"
      ]
     },
     "execution_count": 36,
     "metadata": {},
     "output_type": "execute_result"
    }
   ],
   "source": [
    "news_titles = [] #need list/dictionary??\n",
    "for result in news_results:\n",
    "    news_title = result.find('div',class_='content_title').text\n",
    "    news_p = result.find('div', class_='article_teaser_body').text\n",
    "    dict_entry={\n",
    "        'news_title': news_title,\n",
    "        'news_p': news_p\n",
    "    }\n",
    "    news_titles.append(dict_entry)\n",
    "# news_titles[0]"
   ]
  },
  {
   "cell_type": "code",
   "execution_count": 37,
   "metadata": {},
   "outputs": [
    {
     "data": {
      "text/plain": [
       "{'news_title': '360 Video: Curiosity Rover Departs Vera Rubin Ridge',\n",
       " 'news_p': \"This panorama from the Mast Camera (Mastcam) on NASA's Curiosity Mars rover was taken on Dec. 19 (Sol 2265). The rover's last drill location on Vera Rubin Ridge is visible, as well as the clay region it will spend the next year exploring.\"}"
      ]
     },
     "execution_count": 37,
     "metadata": {},
     "output_type": "execute_result"
    }
   ],
   "source": [
    "latest_news = news_titles[0]\n",
    "latest_news"
   ]
  },
  {
   "cell_type": "code",
   "execution_count": 38,
   "metadata": {},
   "outputs": [],
   "source": [
    "news_browser.quit()"
   ]
  },
  {
   "cell_type": "markdown",
   "metadata": {},
   "source": [
    "<strong>JPL Mars Space Images - Featured Image:</strong>"
   ]
  },
  {
   "cell_type": "code",
   "execution_count": 39,
   "metadata": {},
   "outputs": [],
   "source": [
    "jpl_url = \"https://www.jpl.nasa.gov/spaceimages/?search=&category=Mars\"\n",
    "jpl_browser = Browser('chrome', **executable_path, headless=False)\n",
    "jpl_browser.visit(jpl_url)\n",
    "jpl_html = jpl_browser.html\n",
    "jpl_soup = BeautifulSoup(jpl_html,'html.parser')"
   ]
  },
  {
   "cell_type": "code",
   "execution_count": 40,
   "metadata": {},
   "outputs": [],
   "source": [
    "# print(jpl_soup.prettify())"
   ]
  },
  {
   "cell_type": "code",
   "execution_count": 41,
   "metadata": {},
   "outputs": [
    {
     "data": {
      "text/plain": [
       "'https://www.jpl.nasa.gov/spaceimages/images/largesize/PIA19643_hires.jpg'"
      ]
     },
     "execution_count": 41,
     "metadata": {},
     "output_type": "execute_result"
    }
   ],
   "source": [
    "partial_img_url = jpl_soup.find('footer').find('a', class_='button fancybox')['data-fancybox-href']\n",
    "large_url = partial_img_url.replace('mediumsize','largesize')\n",
    "large_url = large_url.replace('_ip', '_hires')\n",
    "featured_img_url = f\"https://www.jpl.nasa.gov{large_url}\"\n",
    "featured_img_url"
   ]
  },
  {
   "cell_type": "code",
   "execution_count": 42,
   "metadata": {},
   "outputs": [],
   "source": [
    "jpl_browser.quit()"
   ]
  },
  {
   "cell_type": "markdown",
   "metadata": {},
   "source": [
    "<strong>Mars Weather:</strong>"
   ]
  },
  {
   "cell_type": "code",
   "execution_count": 43,
   "metadata": {},
   "outputs": [],
   "source": [
    "twitter_url = \"https://twitter.com/marswxreport?lang=en\"\n",
    "twitter_browser = Browser('chrome', **executable_path, headless=False)\n",
    "twitter_browser.visit(twitter_url)\n",
    "twitter_html = twitter_browser.html\n",
    "twitter_soup = BeautifulSoup(twitter_html,'html.parser')"
   ]
  },
  {
   "cell_type": "code",
   "execution_count": 44,
   "metadata": {},
   "outputs": [],
   "source": [
    "twitter_results = twitter_soup.find_all('li', class_='js-stream-item')"
   ]
  },
  {
   "cell_type": "code",
   "execution_count": 45,
   "metadata": {},
   "outputs": [
    {
     "data": {
      "text/plain": [
       "'Sol 2312 (2019-02-06), high -13C/8F, low -72C/-97F, pressure at 8.13 hPa, daylight 06:47-18:53pic.twitter.com/QpQemcmmJW'"
      ]
     },
     "execution_count": 45,
     "metadata": {},
     "output_type": "execute_result"
    }
   ],
   "source": [
    "mars_weather = []\n",
    "for results in twitter_results:\n",
    "    weather = results.find('p', class_='TweetTextSize').text\n",
    "    if weather.split(' ')[0] == 'Sol':\n",
    "        mars_weather.append(weather)\n",
    "\n",
    "latest_weather = mars_weather[0]\n",
    "latest_weather"
   ]
  },
  {
   "cell_type": "code",
   "execution_count": 46,
   "metadata": {},
   "outputs": [],
   "source": [
    "twitter_browser.quit()"
   ]
  },
  {
   "cell_type": "markdown",
   "metadata": {},
   "source": [
    "<strong>Mars Facts:</strong>"
   ]
  },
  {
   "cell_type": "code",
   "execution_count": 47,
   "metadata": {},
   "outputs": [],
   "source": [
    "facts_url = \"http://space-facts.com/mars/\"\n",
    "facts_browser = Browser('chrome', **executable_path, headless=False)\n",
    "facts_browser.visit(facts_url)\n",
    "facts_html = facts_browser.html\n",
    "facts_soup = BeautifulSoup(facts_html,'html.parser')"
   ]
  },
  {
   "cell_type": "code",
   "execution_count": 48,
   "metadata": {},
   "outputs": [
    {
     "data": {
      "text/html": [
       "<div>\n",
       "<style scoped>\n",
       "    .dataframe tbody tr th:only-of-type {\n",
       "        vertical-align: middle;\n",
       "    }\n",
       "\n",
       "    .dataframe tbody tr th {\n",
       "        vertical-align: top;\n",
       "    }\n",
       "\n",
       "    .dataframe thead th {\n",
       "        text-align: right;\n",
       "    }\n",
       "</style>\n",
       "<table border=\"1\" class=\"dataframe\">\n",
       "  <thead>\n",
       "    <tr style=\"text-align: right;\">\n",
       "      <th></th>\n",
       "      <th>Description</th>\n",
       "      <th>Value</th>\n",
       "    </tr>\n",
       "  </thead>\n",
       "  <tbody>\n",
       "    <tr>\n",
       "      <th>0</th>\n",
       "      <td>Equatorial Diameter:</td>\n",
       "      <td>6,792 km</td>\n",
       "    </tr>\n",
       "    <tr>\n",
       "      <th>1</th>\n",
       "      <td>Polar Diameter:</td>\n",
       "      <td>6,752 km</td>\n",
       "    </tr>\n",
       "    <tr>\n",
       "      <th>2</th>\n",
       "      <td>Mass:</td>\n",
       "      <td>6.42 x 10^23 kg (10.7% Earth)</td>\n",
       "    </tr>\n",
       "    <tr>\n",
       "      <th>3</th>\n",
       "      <td>Moons:</td>\n",
       "      <td>2 (Phobos &amp; Deimos)</td>\n",
       "    </tr>\n",
       "    <tr>\n",
       "      <th>4</th>\n",
       "      <td>Orbit Distance:</td>\n",
       "      <td>227,943,824 km (1.52 AU)</td>\n",
       "    </tr>\n",
       "  </tbody>\n",
       "</table>\n",
       "</div>"
      ],
      "text/plain": [
       "            Description                          Value\n",
       "0  Equatorial Diameter:                       6,792 km\n",
       "1       Polar Diameter:                       6,752 km\n",
       "2                 Mass:  6.42 x 10^23 kg (10.7% Earth)\n",
       "3                Moons:            2 (Phobos & Deimos)\n",
       "4       Orbit Distance:       227,943,824 km (1.52 AU)"
      ]
     },
     "execution_count": 48,
     "metadata": {},
     "output_type": "execute_result"
    }
   ],
   "source": [
    "tables = pd.read_html(facts_url)\n",
    "df = tables[0]\n",
    "df.columns = ['Description','Value']\n",
    "df.head()"
   ]
  },
  {
   "cell_type": "code",
   "execution_count": 59,
   "metadata": {},
   "outputs": [],
   "source": [
    "mars_facts = df.to_html(index=False)"
   ]
  },
  {
   "cell_type": "code",
   "execution_count": 51,
   "metadata": {},
   "outputs": [],
   "source": [
    "facts_browser.quit()"
   ]
  },
  {
   "cell_type": "markdown",
   "metadata": {},
   "source": [
    "<strong>Mars Hemisphere:</strong>"
   ]
  },
  {
   "cell_type": "code",
   "execution_count": 53,
   "metadata": {},
   "outputs": [],
   "source": [
    "hemisphere_url = \"https://astrogeology.usgs.gov/search/results?q=hemisphere+enhanced&k1=target&v1=Mars\"\n",
    "hemisphere_browser = Browser('chrome', **executable_path, headless=False)\n",
    "hemisphere_browser.visit(hemisphere_url)\n",
    "hemisphere_html = hemisphere_browser.html\n",
    "hemisphere_soup = BeautifulSoup(hemisphere_html,'html.parser')"
   ]
  },
  {
   "cell_type": "code",
   "execution_count": 54,
   "metadata": {},
   "outputs": [],
   "source": [
    "hemisphere_results = hemisphere_soup.find_all('div', class_='item')\n",
    "# print(hemisphere_results[0].prettify())"
   ]
  },
  {
   "cell_type": "code",
   "execution_count": 55,
   "metadata": {},
   "outputs": [],
   "source": [
    "hemisphere_img_url = []\n",
    "for result in hemisphere_results:\n",
    "    title = result.find('h3').text\n",
    "    hemisphere_browser.find_by_text(title).click()\n",
    "    img_url = hemisphere_browser.find_link_by_text('Sample')['href']\n",
    "    dict_entry = {\n",
    "        'title': title,\n",
    "        'img_url': img_url\n",
    "    }\n",
    "    hemisphere_img_url.append(dict_entry)\n",
    "    hemisphere_browser.find_link_by_text('Back').click()"
   ]
  },
  {
   "cell_type": "code",
   "execution_count": null,
   "metadata": {},
   "outputs": [],
   "source": [
    "# for x in hemisphere_img_url:\n",
    "#     print(x['title'])\n",
    "#     print(x['img_url'])\n",
    "#     print('-'*15)"
   ]
  },
  {
   "cell_type": "code",
   "execution_count": 57,
   "metadata": {},
   "outputs": [],
   "source": [
    "hemisphere_browser.quit()"
   ]
  },
  {
   "cell_type": "code",
   "execution_count": 58,
   "metadata": {},
   "outputs": [],
   "source": [
    "mars_data = {\n",
    "    'latest_news': latest_news,\n",
    "    'featured_img': featured_img_url,\n",
    "    'latest_weather': latest_weather,\n",
    "    'facts': mars_facts,\n",
    "    'hemisphere_img': hemisphere_img_url\n",
    "    }"
   ]
  },
  {
   "cell_type": "code",
   "execution_count": null,
   "metadata": {},
   "outputs": [],
   "source": []
  }
 ],
 "metadata": {
  "kernelspec": {
   "display_name": "Python 3",
   "language": "python",
   "name": "python3"
  },
  "language_info": {
   "codemirror_mode": {
    "name": "ipython",
    "version": 3
   },
   "file_extension": ".py",
   "mimetype": "text/x-python",
   "name": "python",
   "nbconvert_exporter": "python",
   "pygments_lexer": "ipython3",
   "version": "3.6.7"
  }
 },
 "nbformat": 4,
 "nbformat_minor": 2
}
